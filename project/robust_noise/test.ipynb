{
 "cells": [
  {
   "cell_type": "code",
   "execution_count": 5,
   "metadata": {
    "collapsed": true
   },
   "outputs": [],
   "source": [
    "import cv2"
   ]
  },
  {
   "cell_type": "code",
   "execution_count": 6,
   "outputs": [
    {
     "data": {
      "text/plain": "array([[[253, 224, 209],\n        [251, 222, 207],\n        [253, 224, 209],\n        ...,\n        [224, 223, 239],\n        [224, 225, 239],\n        [224, 225, 239]],\n\n       [[252, 223, 208],\n        [252, 223, 208],\n        [254, 225, 210],\n        ...,\n        [224, 223, 239],\n        [222, 223, 237],\n        [223, 224, 238]],\n\n       [[252, 223, 208],\n        [252, 223, 208],\n        [255, 226, 211],\n        ...,\n        [225, 224, 240],\n        [224, 225, 239],\n        [224, 225, 239]],\n\n       ...,\n\n       [[148, 130, 123],\n        [147, 129, 122],\n        [142, 124, 117],\n        ...,\n        [ 77,  77,  91],\n        [ 78,  78,  90],\n        [ 76,  76,  88]],\n\n       [[146, 128, 121],\n        [145, 127, 120],\n        [142, 124, 117],\n        ...,\n        [ 76,  76,  90],\n        [ 76,  76,  88],\n        [ 75,  75,  87]],\n\n       [[144, 126, 119],\n        [145, 127, 120],\n        [143, 125, 118],\n        ...,\n        [ 75,  75,  87],\n        [ 75,  75,  87],\n        [ 74,  74,  86]]], dtype=uint8)"
     },
     "execution_count": 6,
     "metadata": {},
     "output_type": "execute_result"
    }
   ],
   "source": [
    "img"
   ],
   "metadata": {
    "collapsed": false,
    "pycharm": {
     "name": "#%%\n"
    }
   }
  },
  {
   "cell_type": "code",
   "execution_count": 3,
   "outputs": [],
   "source": [
    "import cv2\n",
    "img = cv2.imread('img.jpeg')\n",
    "cv2.imshow('img',img)\n",
    "#waits for user to press any key\n",
    "#(this is necessary to avoid Python kernel form crashing)\n",
    "cv2.waitKey(0)\n",
    "\n",
    "#closing all open windows\n",
    "cv2.destroyAllWindows()"
   ],
   "metadata": {
    "collapsed": false,
    "pycharm": {
     "name": "#%%\n"
    }
   }
  },
  {
   "cell_type": "markdown",
   "source": [],
   "metadata": {
    "collapsed": false
   }
  }
 ],
 "metadata": {
  "kernelspec": {
   "display_name": "Python 3",
   "language": "python",
   "name": "python3"
  },
  "language_info": {
   "codemirror_mode": {
    "name": "ipython",
    "version": 2
   },
   "file_extension": ".py",
   "mimetype": "text/x-python",
   "name": "python",
   "nbconvert_exporter": "python",
   "pygments_lexer": "ipython2",
   "version": "2.7.6"
  }
 },
 "nbformat": 4,
 "nbformat_minor": 0
}