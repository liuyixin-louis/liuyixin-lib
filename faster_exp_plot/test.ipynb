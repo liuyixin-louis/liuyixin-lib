{
 "metadata": {
  "language_info": {
   "codemirror_mode": {
    "name": "ipython",
    "version": 3
   },
   "file_extension": ".py",
   "mimetype": "text/x-python",
   "name": "python",
   "nbconvert_exporter": "python",
   "pygments_lexer": "ipython3",
   "version": "3.8.13-final"
  },
  "orig_nbformat": 2,
  "kernelspec": {
   "name": "dl",
   "display_name": "dl",
   "language": "python"
  }
 },
 "nbformat": 4,
 "nbformat_minor": 2,
 "cells": [
  {
   "cell_type": "code",
   "execution_count": 1,
   "metadata": {},
   "outputs": [],
   "source": [
    "from tensorboard.backend.event_processing import event_accumulator\n",
    "import argparse\n",
    "import pandas as pd\n",
    "from tqdm import tqdm\n",
    "\n",
    "\n",
    "# in_path='/ssd2/liuyixin04/workspace/PARL/examples/MADDPG/train_log/simple_3013_False'\n",
    "# event_data = event_accumulator.EventAccumulator(in_path)  # a python interface for loading Event data\n",
    "# event_data.Reload()  # synchronously loads all of the data written so far b\n",
    "# keys = event_data.scalars.Keys()  # get all tags,save in a list\n",
    "# keys\n",
    "# df = pd.DataFrame(columns=keys[2:3])  # my first column is training loss per iteration, so I abandon it\n",
    "# for key in tqdm(keys):\n",
    "#     # print(key)\n",
    "#     if key != 'train/total_loss_iter':  # Other attributes' timestamp is epoch.Ignore it for the format of csv file\n",
    "#         df[key] = pd.DataFrame(event_data.Scalars(key)).value\n",
    "\n",
    "# # df.to_csv(out_path)\n",
    "# df = pd.DataFrame(event_data.Scalars('mean_episode_reward/episode')).to_csv('/ssd2/liuyixin04/workspace/PARL/examples/MADDPG/df.csv',index=False)"
   ]
  },
  {
   "cell_type": "code",
   "execution_count": 2,
   "metadata": {},
   "outputs": [],
   "source": [
    "import os \n",
    "g = os.walk('/ssd2/liuyixin04/workspace/PARL/examples/MADDPG/train_log')\n",
    "ckpt = []\n",
    "for path, dir_list, file_names in g:\n",
    "    # print(path,dir_name,file_names)\n",
    "    for dir_name in dir_list:\n",
    "        # print()\n",
    "        sub_path = os.path.join(path, dir_name)\n",
    "        ckpt.append(sub_path)\n",
    "        # break\n",
    "    # break\n",
    "    # for f in file_names:\n",
    "    #     ckpt.append(os.path.join(path,f))\n",
    "# ckpt=[f for f in ckpt if 'event' in f ]"
   ]
  },
  {
   "cell_type": "code",
   "execution_count": 3,
   "metadata": {},
   "outputs": [
    {
     "output_type": "stream",
     "name": "stderr",
     "text": [
      "  0%|          | 0/16 [00:00<?, ?it/s]2022-04-12 10:51:09.916253: W tensorflow/stream_executor/platform/default/dso_loader.cc:64] Could not load dynamic library 'libcudart.so.11.0'; dlerror: libcudart.so.11.0: cannot open shared object file: No such file or directory; LD_LIBRARY_PATH: /usr/local/cuda/lib64:/usr/local/cuda/lib::/home/work/cuda-8.0/lib64:/home/work/cuda-8.0/lib:/home/work/cuda-10.2/lib64:/home/work/cuda-10.2/lib\n",
      "2022-04-12 10:51:09.916291: I tensorflow/stream_executor/cuda/cudart_stub.cc:29] Ignore above cudart dlerror if you do not have a GPU set up on your machine.\n",
      "  6%|▋         | 1/16 [00:08<02:10,  8.67s/it]/ssd2/liuyixin04/workspace/PARL/examples/MADDPG/train_log/simple_world_comm_24752_True\n",
      " 12%|█▎        | 2/16 [00:15<01:46,  7.62s/it]/ssd2/liuyixin04/workspace/PARL/examples/MADDPG/train_log/simple_world_comm_30778_False\n",
      " 19%|█▉        | 3/16 [00:22<01:33,  7.19s/it]/ssd2/liuyixin04/workspace/PARL/examples/MADDPG/train_log/simple_world_comm_24711_True\n",
      " 25%|██▌       | 4/16 [00:28<01:20,  6.71s/it]/ssd2/liuyixin04/workspace/PARL/examples/MADDPG/train_log/simple_tag_30778_True\n",
      " 31%|███▏      | 5/16 [00:34<01:11,  6.46s/it]/ssd2/liuyixin04/workspace/PARL/examples/MADDPG/train_log/simple_tag_24711_False\n",
      " 38%|███▊      | 6/16 [00:41<01:05,  6.60s/it]/ssd2/liuyixin04/workspace/PARL/examples/MADDPG/train_log/simple_world_comm_32574_False\n",
      " 44%|████▍     | 7/16 [00:46<00:56,  6.31s/it]/ssd2/liuyixin04/workspace/PARL/examples/MADDPG/train_log/simple_tag_32574_False\n",
      " 50%|█████     | 8/16 [00:52<00:49,  6.23s/it]/ssd2/liuyixin04/workspace/PARL/examples/MADDPG/train_log/simple_tag_32574_True\n",
      " 56%|█████▋    | 9/16 [00:59<00:45,  6.44s/it]/ssd2/liuyixin04/workspace/PARL/examples/MADDPG/train_log/simple_world_comm_30778_True\n",
      " 62%|██████▎   | 10/16 [01:05<00:37,  6.28s/it]/ssd2/liuyixin04/workspace/PARL/examples/MADDPG/train_log/simple_tag_24752_False\n",
      " 69%|██████▉   | 11/16 [01:11<00:30,  6.19s/it]/ssd2/liuyixin04/workspace/PARL/examples/MADDPG/train_log/simple_tag_24711_True\n",
      " 75%|███████▌  | 12/16 [01:17<00:24,  6.13s/it]/ssd2/liuyixin04/workspace/PARL/examples/MADDPG/train_log/simple_tag_24752_True\n",
      " 81%|████████▏ | 13/16 [01:24<00:19,  6.39s/it]/ssd2/liuyixin04/workspace/PARL/examples/MADDPG/train_log/simple_world_comm_32574_True\n",
      " 88%|████████▊ | 14/16 [01:30<00:12,  6.23s/it]/ssd2/liuyixin04/workspace/PARL/examples/MADDPG/train_log/simple_tag_30778_False\n",
      " 94%|█████████▍| 15/16 [01:37<00:06,  6.43s/it]/ssd2/liuyixin04/workspace/PARL/examples/MADDPG/train_log/simple_world_comm_24752_False\n",
      "100%|██████████| 16/16 [01:44<00:00,  6.52s/it]/ssd2/liuyixin04/workspace/PARL/examples/MADDPG/train_log/simple_world_comm_24711_False\n",
      "\n"
     ]
    }
   ],
   "source": [
    "from tensorboard.backend.event_processing import event_accumulator\n",
    "import argparse\n",
    "import pandas as pd\n",
    "from tqdm import tqdm\n",
    "\n",
    "\n",
    "# in_path='/ssd2/liuyixin04/workspace/PARL/examples/MADDPG/train_log/simple_3013_False'\n",
    "for in_path in tqdm(ckpt):\n",
    "    event_data = event_accumulator.EventAccumulator(in_path)  # a python interface for loading Event data\n",
    "    event_data.Reload()  # synchronously loads all of the data written so far b\n",
    "    df = pd.DataFrame(event_data.Scalars('mean_episode_reward/episode'))\n",
    "    df.columns = ['Wall_time', 'Step', 'Value']\n",
    "    df.to_csv(f'{in_path}/data.csv',index=False)\n",
    "    print(in_path)\n",
    "    # break\n",
    "    "
   ]
  },
  {
   "cell_type": "code",
   "execution_count": 4,
   "metadata": {},
   "outputs": [],
   "source": [
    "import os\n",
    "def mkdir(path):\n",
    "\tfolder = os.path.exists(path)\n",
    "\tif not folder:\n",
    "\t\tos.makedirs(path)"
   ]
  },
  {
   "cell_type": "code",
   "execution_count": 8,
   "metadata": {},
   "outputs": [],
   "source": [
    "# create dir\n",
    "root = '/ssd2/liuyixin04/workspace/PARL/examples/MADDPG/plot_dir'\n",
    "algs = ['MADDPG-continous','MADDPG-discrete']\n",
    "for alg in algs:\n",
    "    mkdir(os.path.join(root,alg))\n",
    "envs = [\n",
    "        'simple', 'simple_adversary', 'simple_crypto', 'simple_push',\n",
    "        'simple_speaker_listener', 'simple_spread', 'simple_tag',\n",
    "        'simple_world_comm'\n",
    "    ]\n",
    "for alg in algs:\n",
    "    for env in envs:\n",
    "        path=os.path.join(root,alg)\n",
    "        mkdir(os.path.join(path,env))"
   ]
  },
  {
   "cell_type": "code",
   "execution_count": 7,
   "metadata": {},
   "outputs": [
    {
     "output_type": "execute_result",
     "data": {
      "text/plain": [
       "['/ssd2/liuyixin04/workspace/PARL/examples/MADDPG/train_log/simple_world_comm_24752_True',\n",
       " '/ssd2/liuyixin04/workspace/PARL/examples/MADDPG/train_log/simple_world_comm_30778_False',\n",
       " '/ssd2/liuyixin04/workspace/PARL/examples/MADDPG/train_log/simple_world_comm_24711_True',\n",
       " '/ssd2/liuyixin04/workspace/PARL/examples/MADDPG/train_log/simple_tag_30778_True',\n",
       " '/ssd2/liuyixin04/workspace/PARL/examples/MADDPG/train_log/simple_tag_24711_False',\n",
       " '/ssd2/liuyixin04/workspace/PARL/examples/MADDPG/train_log/simple_world_comm_32574_False',\n",
       " '/ssd2/liuyixin04/workspace/PARL/examples/MADDPG/train_log/simple_tag_32574_False',\n",
       " '/ssd2/liuyixin04/workspace/PARL/examples/MADDPG/train_log/simple_tag_32574_True',\n",
       " '/ssd2/liuyixin04/workspace/PARL/examples/MADDPG/train_log/simple_world_comm_30778_True',\n",
       " '/ssd2/liuyixin04/workspace/PARL/examples/MADDPG/train_log/simple_tag_24752_False',\n",
       " '/ssd2/liuyixin04/workspace/PARL/examples/MADDPG/train_log/simple_tag_24711_True',\n",
       " '/ssd2/liuyixin04/workspace/PARL/examples/MADDPG/train_log/simple_tag_24752_True',\n",
       " '/ssd2/liuyixin04/workspace/PARL/examples/MADDPG/train_log/simple_world_comm_32574_True',\n",
       " '/ssd2/liuyixin04/workspace/PARL/examples/MADDPG/train_log/simple_tag_30778_False',\n",
       " '/ssd2/liuyixin04/workspace/PARL/examples/MADDPG/train_log/simple_world_comm_24752_False',\n",
       " '/ssd2/liuyixin04/workspace/PARL/examples/MADDPG/train_log/simple_world_comm_24711_False']"
      ]
     },
     "metadata": {},
     "execution_count": 7
    }
   ],
   "source": [
    "ckpt"
   ]
  },
  {
   "cell_type": "code",
   "execution_count": 9,
   "metadata": {},
   "outputs": [],
   "source": [
    "# data_dir = \"/ssd2/liuyixin04/workspace/PARL/examples/MADDPG/train_log\"\n",
    "# for path,dir_list,file_list in os.walk(data_dir):\n",
    "#     if 'simple' in path:\n",
    "#         for f in file_list:\n",
    "#             ckpt.append(os.path.join(path,f))\n",
    "datalist = [f+'/data.csv' for f in ckpt]\n",
    "flaglist = [d.split('/')[-2] for d in datalist]\n",
    "flaglist\n",
    "for i,csv in enumerate(datalist):\n",
    "    path = root\n",
    "    if 'True' in flaglist[i]:\n",
    "        path=os.path.join(path,'MADDPG-continous')\n",
    "    else:\n",
    "        path=os.path.join(path,'MADDPG-discrete')\n",
    "    path = os.path.join(path,'_'.join(flaglist[i].split('_')[:-2]))\n",
    "    # '/'.join(csv.split('/')[:-1])\n",
    "    csv_old = os.path.join(path,'data.csv')\n",
    "    csv_new = csv_old.replace('data','_'.join(flaglist[i].split('_')[-2:]))\n",
    "    # os.system(f\"rm {csv_old}\")\n",
    "    os.system(f'cp {csv} {path}')\n",
    "    os.system(f\"mv {csv_old} {csv_new}\")\n",
    "    # break"
   ]
  },
  {
   "cell_type": "code",
   "execution_count": 17,
   "metadata": {},
   "outputs": [
    {
     "output_type": "execute_result",
     "data": {
      "text/plain": [
       "-5.8429999351501465"
      ]
     },
     "metadata": {},
     "execution_count": 17
    }
   ],
   "source": [
    "pd.read_csv('/ssd2/liuyixin04/workspace/backup/plot_dir/MADDPG-discrete/simple/3013_False.csv')['Value'].max()"
   ]
  },
  {
   "cell_type": "code",
   "execution_count": 18,
   "metadata": {},
   "outputs": [
    {
     "output_type": "execute_result",
     "data": {
      "text/plain": [
       "{'simple_adversary': {'max_y': 1.5160000324249268,\n",
       "  'min_y': -21.136999130249023},\n",
       " 'simple': {'max_y': -4.203999996185303, 'min_y': -44.4630012512207},\n",
       " 'simple_tag': {'max_y': 117.18000030517578, 'min_y': -12.423999786376951},\n",
       " 'simple_world_comm': {'max_y': 48.84099960327149,\n",
       "  'min_y': -77.28900146484375},\n",
       " 'simple_spread': {'max_y': -97.52899932861328, 'min_y': -129.07200622558594},\n",
       " 'simple_speaker_listener': {'max_y': -13.418999671936035,\n",
       "  'min_y': -122.01300048828124},\n",
       " 'simple_push': {'max_y': -6.421999931335449, 'min_y': -30.56999969482422},\n",
       " 'simple_crypto': {'max_y': 23.18600082397461, 'min_y': -40.75199890136719}}"
      ]
     },
     "metadata": {},
     "execution_count": 18
    }
   ],
   "source": [
    "root_path = \"/ssd2/liuyixin04/workspace/test-yixin/faster_exp_plot/plot_dir\"\n",
    "dic = {}\n",
    "max_ = -9999900\n",
    "min_ = 99999999\n",
    "K={}\n",
    "import pandas as pd\n",
    "for p,d,f in os.walk(root_path):\n",
    "    for fi in f:\n",
    "        if '.csv' in fi:\n",
    "            # print(fi)\n",
    "            env = p.split('/')[-1]\n",
    "            dic[env]={}\n",
    "            dic[env]['max_y']=max_\n",
    "            dic[env]['min_y']=min_\n",
    "            K[env] = 4/5\n",
    "for p,d,f in os.walk(root_path):\n",
    "    for fi in f:\n",
    "        env = p.split('/')[-1]\n",
    "        if '.csv' in fi:\n",
    "            df = pd.read_csv(os.path.join(p,fi))\n",
    "            dic[env]['max_y'] = max(df['Value'].max(),dic[env]['max_y'])\n",
    "            dic[env]['min_y'] = min(df['Value'].min(),dic[env]['min_y'])\n",
    "dic"
   ]
  },
  {
   "cell_type": "code",
   "execution_count": 19,
   "metadata": {},
   "outputs": [],
   "source": [
    "for k,v in K.items():\n",
    "    if k==\"simple_tag\":\n",
    "        K[k] = 1/3"
   ]
  },
  {
   "cell_type": "code",
   "execution_count": 20,
   "metadata": {},
   "outputs": [
    {
     "output_type": "execute_result",
     "data": {
      "text/plain": [
       "{'simple_adversary': {'max_y': 0.7554997876286507,\n",
       "  'min_y': -21.136999130249023,\n",
       "  'mean_endy': -3.622999995946884,\n",
       "  'y_major_loc': 5.4731247294694185},\n",
       " 'simple': {'max_y': 4.269678916249958,\n",
       "  'min_y': -44.4630012512207,\n",
       "  'mean_endy': -5.476857117244175,\n",
       "  'y_major_loc': 12.183170041867665},\n",
       " 'simple_tag': {'max_y': 40.08424925804138,\n",
       "  'min_y': -12.423999786376951,\n",
       "  'mean_endy': 5.078749895095825,\n",
       "  'y_major_loc': 13.127062261104584},\n",
       " 'simple_world_comm': {'max_y': 51.33162546157837,\n",
       "  'min_y': -77.28900146484375,\n",
       "  'mean_endy': 25.607500076293945,\n",
       "  'y_major_loc': 32.15515673160553},\n",
       " 'simple_spread': {'max_y': -95.54324913024902,\n",
       "  'min_y': -129.07200622558594,\n",
       "  'mean_endy': -102.2490005493164,\n",
       "  'y_major_loc': 8.382189273834229},\n",
       " 'simple_speaker_listener': {'max_y': -0.29268765449525347,\n",
       "  'min_y': -122.01300048828124,\n",
       "  'mean_endy': -24.63675022125244,\n",
       "  'y_major_loc': 30.430078208446496},\n",
       " 'simple_push': {'max_y': -2.0300001204013824,\n",
       "  'min_y': -30.56999969482422,\n",
       "  'mean_endy': -7.73800003528595,\n",
       "  'y_major_loc': 7.134999893605709},\n",
       " 'simple_crypto': {'max_y': -1.656843826174736,\n",
       "  'min_y': -40.75199890136719,\n",
       "  'mean_endy': -9.475874841213226,\n",
       "  'y_major_loc': 9.773788768798113}}"
      ]
     },
     "metadata": {},
     "execution_count": 20
    }
   ],
   "source": [
    "root_path = \"/ssd2/liuyixin04/workspace/test-yixin/faster_exp_plot/plot_dir\"\n",
    "\n",
    "dic = {}\n",
    "max_ = -9999900\n",
    "min_ = 99999999\n",
    "import pandas as pd\n",
    "import numpy as np\n",
    "for p,d,f in os.walk(root_path):\n",
    "    for fi in f:\n",
    "        if '.csv' in fi:\n",
    "            # print(fi)\n",
    "            env = p.split('/')[-1]\n",
    "            dic[env]={}\n",
    "            dic[env]['max_y']=max_\n",
    "            dic[env]['min_y']=min_\n",
    "            dic[env]['mean_endy']=[]\n",
    "for p,d,f in os.walk(root_path):\n",
    "    for fi in f:\n",
    "        env = p.split('/')[-1]\n",
    "        if '.csv' in fi:\n",
    "            df = pd.read_csv(os.path.join(p,fi))\n",
    "            dic[env]['max_y'] = max(df['Value'].max(),dic[env]['max_y'])\n",
    "            dic[env]['min_y'] = min(df['Value'].min(),dic[env]['min_y'])\n",
    "            dic[env]['mean_endy'].append(df['Value'].to_list()[-1])\n",
    "for k,v in dic.items():\n",
    "    import numpy as np\n",
    "    dic[k]['mean_endy'] = np.mean(dic[k]['mean_endy'])\n",
    "for k,v in dic.items():\n",
    "    dic[k]['max_y'] = dic[k]['min_y'] + np.abs(dic[k]['mean_endy']-dic[k]['min_y'])/K[k]\n",
    "    dic[k]['y_major_loc'] = np.abs(dic[k]['max_y']-dic[k]['min_y'])/4\n",
    "dic"
   ]
  },
  {
   "cell_type": "code",
   "execution_count": null,
   "metadata": {},
   "outputs": [],
   "source": []
  }
 ]
}