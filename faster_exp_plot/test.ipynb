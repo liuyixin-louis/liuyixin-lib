{
 "metadata": {
  "language_info": {
   "codemirror_mode": {
    "name": "ipython",
    "version": 3
   },
   "file_extension": ".py",
   "mimetype": "text/x-python",
   "name": "python",
   "nbconvert_exporter": "python",
   "pygments_lexer": "ipython3",
   "version": "3.8.13-final"
  },
  "orig_nbformat": 2,
  "kernelspec": {
   "name": "dl",
   "display_name": "dl",
   "language": "python"
  }
 },
 "nbformat": 4,
 "nbformat_minor": 2,
 "cells": [
  {
   "cell_type": "code",
   "execution_count": 1,
   "metadata": {},
   "outputs": [],
   "source": [
    "from tensorboard.backend.event_processing import event_accumulator\n",
    "import argparse\n",
    "import pandas as pd\n",
    "from tqdm import tqdm\n",
    "\n",
    "\n",
    "# in_path='/ssd2/liuyixin04/workspace/PARL/examples/MADDPG/train_log/simple_3013_False'\n",
    "# event_data = event_accumulator.EventAccumulator(in_path)  # a python interface for loading Event data\n",
    "# event_data.Reload()  # synchronously loads all of the data written so far b\n",
    "# keys = event_data.scalars.Keys()  # get all tags,save in a list\n",
    "# keys\n",
    "# df = pd.DataFrame(columns=keys[2:3])  # my first column is training loss per iteration, so I abandon it\n",
    "# for key in tqdm(keys):\n",
    "#     # print(key)\n",
    "#     if key != 'train/total_loss_iter':  # Other attributes' timestamp is epoch.Ignore it for the format of csv file\n",
    "#         df[key] = pd.DataFrame(event_data.Scalars(key)).value\n",
    "\n",
    "# # df.to_csv(out_path)\n",
    "# df = pd.DataFrame(event_data.Scalars('mean_episode_reward/episode')).to_csv('/ssd2/liuyixin04/workspace/PARL/examples/MADDPG/df.csv',index=False)"
   ]
  },
  {
   "cell_type": "code",
   "execution_count": 9,
   "metadata": {},
   "outputs": [],
   "source": [
    "import os \n",
    "g = os.walk('/ssd2/liuyixin04/workspace/backup/train_log_backup2')\n",
    "ckpt = []\n",
    "for path, dir_list, file_names in g:\n",
    "    # print(path,dir_name,file_names)\n",
    "    for dir_name in dir_list:\n",
    "        # print()\n",
    "        sub_path = os.path.join(path, dir_name)\n",
    "        ckpt.append(sub_path)\n",
    "        # break\n",
    "    # break\n",
    "    # for f in file_names:\n",
    "    #     ckpt.append(os.path.join(path,f))\n",
    "# ckpt=[f for f in ckpt if 'event' in f ]"
   ]
  },
  {
   "cell_type": "code",
   "execution_count": 3,
   "metadata": {},
   "outputs": [
    {
     "output_type": "stream",
     "name": "stderr",
     "text": [
      "  0%|          | 0/65 [00:00<?, ?it/s]2022-04-14 10:54:16.377457: W tensorflow/stream_executor/platform/default/dso_loader.cc:64] Could not load dynamic library 'libcudart.so.11.0'; dlerror: libcudart.so.11.0: cannot open shared object file: No such file or directory; LD_LIBRARY_PATH: /usr/local/cuda/lib64:/usr/local/cuda/lib::/home/work/cuda-8.0/lib64:/home/work/cuda-8.0/lib:/home/work/cuda-10.2/lib64:/home/work/cuda-10.2/lib\n",
      "2022-04-14 10:54:16.377501: I tensorflow/stream_executor/cuda/cudart_stub.cc:29] Ignore above cudart dlerror if you do not have a GPU set up on your machine.\n",
      "  2%|▏         | 1/65 [00:03<03:13,  3.02s/it]/ssd2/liuyixin04/workspace/backup/train_log_backup2/simple_push_30500_True\n",
      "  3%|▎         | 2/65 [00:04<02:00,  1.91s/it]/ssd2/liuyixin04/workspace/backup/train_log_backup2/simple_19169_False\n",
      "  5%|▍         | 3/65 [00:05<01:41,  1.64s/it]/ssd2/liuyixin04/workspace/backup/train_log_backup2/simple_push_19169_False\n",
      "  6%|▌         | 4/65 [00:06<01:32,  1.51s/it]/ssd2/liuyixin04/workspace/backup/train_log_backup2/simple_adversary_30500_True\n",
      "  8%|▊         | 5/65 [00:12<02:54,  2.90s/it]/ssd2/liuyixin04/workspace/backup/train_log_backup2/simple_spread_14494_True\n",
      "  9%|▉         | 6/65 [00:13<02:17,  2.33s/it]/ssd2/liuyixin04/workspace/backup/train_log_backup2/simple_push_32015_True\n",
      " 11%|█         | 7/65 [00:15<02:04,  2.15s/it]/ssd2/liuyixin04/workspace/backup/train_log_backup2/simple_world_comm_19169_False\n",
      " 12%|█▏        | 8/65 [00:16<01:45,  1.84s/it]/ssd2/liuyixin04/workspace/backup/train_log_backup2/simple_push_3013_True\n",
      " 14%|█▍        | 9/65 [00:17<01:31,  1.64s/it]/ssd2/liuyixin04/workspace/backup/train_log_backup2/simple_speaker_listener_3013_False\n",
      " 15%|█▌        | 10/65 [00:18<01:25,  1.56s/it]/ssd2/liuyixin04/workspace/backup/train_log_backup2/simple_crypto_30500_False\n",
      " 17%|█▋        | 11/65 [00:20<01:18,  1.45s/it]/ssd2/liuyixin04/workspace/backup/train_log_backup2/simple_speaker_listener_30500_False\n",
      " 18%|█▊        | 12/65 [00:21<01:14,  1.40s/it]/ssd2/liuyixin04/workspace/backup/train_log_backup2/simple_crypto_32015_True\n",
      " 20%|██        | 13/65 [00:26<02:15,  2.61s/it]/ssd2/liuyixin04/workspace/backup/train_log_backup2/simple_spread_32592_False\n",
      " 22%|██▏       | 14/65 [00:27<01:50,  2.16s/it]/ssd2/liuyixin04/workspace/backup/train_log_backup2/simple_30500_True\n",
      " 23%|██▎       | 15/65 [00:29<01:41,  2.02s/it]/ssd2/liuyixin04/workspace/backup/train_log_backup2/simple_world_comm_32015_True\n",
      " 25%|██▍       | 16/65 [00:31<01:33,  1.90s/it]/ssd2/liuyixin04/workspace/backup/train_log_backup2/simple_world_comm_32015_False\n",
      " 26%|██▌       | 17/65 [00:32<01:23,  1.73s/it]/ssd2/liuyixin04/workspace/backup/train_log_backup2/simple_speaker_listener_30500_True\n",
      " 28%|██▊       | 18/65 [00:33<01:12,  1.55s/it]/ssd2/liuyixin04/workspace/backup/train_log_backup2/simple_32015_True\n",
      " 29%|██▉       | 19/65 [00:34<01:07,  1.48s/it]/ssd2/liuyixin04/workspace/backup/train_log_backup2/simple_crypto_3013_False\n",
      " 31%|███       | 20/65 [00:36<01:06,  1.48s/it]/ssd2/liuyixin04/workspace/backup/train_log_backup2/simple_adversary_3013_False\n",
      " 32%|███▏      | 21/65 [00:37<01:00,  1.37s/it]/ssd2/liuyixin04/workspace/backup/train_log_backup2/simple_19169_True\n",
      " 34%|███▍      | 22/65 [00:38<00:58,  1.35s/it]/ssd2/liuyixin04/workspace/backup/train_log_backup2/simple_speaker_listener_3013_True\n",
      " 35%|███▌      | 23/65 [00:40<00:56,  1.33s/it]/ssd2/liuyixin04/workspace/backup/train_log_backup2/simple_adversary_30500_False\n",
      " 37%|███▋      | 24/65 [00:41<00:52,  1.27s/it]/ssd2/liuyixin04/workspace/backup/train_log_backup2/simple_32015_False\n",
      " 38%|███▊      | 25/65 [00:42<00:52,  1.30s/it]/ssd2/liuyixin04/workspace/backup/train_log_backup2/simple_speaker_listener_32015_False\n",
      " 40%|████      | 26/65 [00:44<00:52,  1.34s/it]/ssd2/liuyixin04/workspace/backup/train_log_backup2/simple_tag_3013_False\n",
      " 42%|████▏     | 27/65 [00:45<00:55,  1.45s/it]/ssd2/liuyixin04/workspace/backup/train_log_backup2/simple_world_comm_3013_False\n",
      " 43%|████▎     | 28/65 [00:47<00:51,  1.40s/it]/ssd2/liuyixin04/workspace/backup/train_log_backup2/simple_crypto_32015_False\n",
      " 45%|████▍     | 29/65 [00:52<01:33,  2.58s/it]/ssd2/liuyixin04/workspace/backup/train_log_backup2/simple_spread_2955_True\n",
      " 46%|████▌     | 30/65 [00:57<01:58,  3.40s/it]/ssd2/liuyixin04/workspace/backup/train_log_backup2/simple_spread_32592_True\n",
      " 48%|████▊     | 31/65 [00:59<01:38,  2.90s/it]/ssd2/liuyixin04/workspace/backup/train_log_backup2/simple_world_comm_30500_False\n",
      " 49%|████▉     | 32/65 [01:00<01:20,  2.44s/it]/ssd2/liuyixin04/workspace/backup/train_log_backup2/simple_tag_19169_True\n",
      " 51%|█████     | 33/65 [01:02<01:06,  2.06s/it]/ssd2/liuyixin04/workspace/backup/train_log_backup2/simple_speaker_listener_19169_False\n",
      " 52%|█████▏    | 34/65 [01:03<00:57,  1.87s/it]/ssd2/liuyixin04/workspace/backup/train_log_backup2/simple_adversary_32015_False\n",
      " 54%|█████▍    | 35/65 [01:04<00:50,  1.67s/it]/ssd2/liuyixin04/workspace/backup/train_log_backup2/simple_push_32015_False\n",
      " 55%|█████▌    | 36/65 [01:06<00:46,  1.60s/it]/ssd2/liuyixin04/workspace/backup/train_log_backup2/simple_crypto_30500_True\n",
      " 57%|█████▋    | 37/65 [01:07<00:40,  1.46s/it]/ssd2/liuyixin04/workspace/backup/train_log_backup2/simple_3013_False\n",
      " 58%|█████▊    | 38/65 [01:08<00:37,  1.40s/it]/ssd2/liuyixin04/workspace/backup/train_log_backup2/simple_crypto_3013_True\n",
      " 60%|██████    | 39/65 [01:13<01:07,  2.58s/it]/ssd2/liuyixin04/workspace/backup/train_log_backup2/simple_spread_5603_False\n",
      " 62%|██████▏   | 40/65 [01:19<01:24,  3.37s/it]/ssd2/liuyixin04/workspace/backup/train_log_backup2/simple_spread_5603_True\n",
      " 63%|██████▎   | 41/65 [01:20<01:07,  2.81s/it]/ssd2/liuyixin04/workspace/backup/train_log_backup2/simple_tag_30500_False\n",
      " 65%|██████▍   | 42/65 [01:21<00:54,  2.39s/it]/ssd2/liuyixin04/workspace/backup/train_log_backup2/simple_tag_32015_False\n",
      " 66%|██████▌   | 43/65 [01:23<00:47,  2.18s/it]/ssd2/liuyixin04/workspace/backup/train_log_backup2/simple_world_comm_30500_True\n",
      " 68%|██████▊   | 44/65 [01:28<01:04,  3.10s/it]/ssd2/liuyixin04/workspace/backup/train_log_backup2/simple_spread_30547_False\n",
      " 69%|██████▉   | 45/65 [01:30<00:52,  2.63s/it]/ssd2/liuyixin04/workspace/backup/train_log_backup2/simple_tag_30500_True\n",
      " 71%|███████   | 46/65 [01:35<01:04,  3.42s/it]/ssd2/liuyixin04/workspace/backup/train_log_backup2/simple_spread_30547_True\n",
      " 72%|███████▏  | 47/65 [01:37<00:50,  2.83s/it]/ssd2/liuyixin04/workspace/backup/train_log_backup2/simple_crypto_19169_True\n",
      " 74%|███████▍  | 48/65 [01:38<00:40,  2.37s/it]/ssd2/liuyixin04/workspace/backup/train_log_backup2/simple_adversary_32015_True\n",
      " 75%|███████▌  | 49/65 [01:39<00:33,  2.08s/it]/ssd2/liuyixin04/workspace/backup/train_log_backup2/simple_adversary_3013_True\n",
      " 77%|███████▋  | 50/65 [01:41<00:27,  1.86s/it]/ssd2/liuyixin04/workspace/backup/train_log_backup2/simple_crypto_19169_False\n",
      " 78%|███████▊  | 51/65 [01:42<00:23,  1.65s/it]/ssd2/liuyixin04/workspace/backup/train_log_backup2/simple_30500_False\n",
      " 80%|████████  | 52/65 [01:47<00:35,  2.75s/it]/ssd2/liuyixin04/workspace/backup/train_log_backup2/simple_spread_2955_False\n",
      " 82%|████████▏ | 53/65 [01:48<00:27,  2.30s/it]/ssd2/liuyixin04/workspace/backup/train_log_backup2/simple_adversary_19169_True\n",
      " 83%|████████▎ | 54/65 [01:49<00:21,  1.93s/it]/ssd2/liuyixin04/workspace/backup/train_log_backup2/simple_3013_True\n",
      " 85%|████████▍ | 55/65 [01:51<00:17,  1.75s/it]/ssd2/liuyixin04/workspace/backup/train_log_backup2/simple_speaker_listener_19169_True\n",
      " 86%|████████▌ | 56/65 [01:52<00:14,  1.65s/it]/ssd2/liuyixin04/workspace/backup/train_log_backup2/simple_tag_19169_False\n",
      " 88%|████████▊ | 57/65 [01:54<00:12,  1.54s/it]/ssd2/liuyixin04/workspace/backup/train_log_backup2/simple_push_19169_True\n",
      " 89%|████████▉ | 58/65 [01:55<00:10,  1.44s/it]/ssd2/liuyixin04/workspace/backup/train_log_backup2/simple_push_30500_False\n",
      " 91%|█████████ | 59/65 [01:56<00:08,  1.38s/it]/ssd2/liuyixin04/workspace/backup/train_log_backup2/simple_speaker_listener_32015_True\n",
      " 92%|█████████▏| 60/65 [01:58<00:07,  1.47s/it]/ssd2/liuyixin04/workspace/backup/train_log_backup2/simple_world_comm_3013_True\n",
      " 94%|█████████▍| 61/65 [01:59<00:05,  1.42s/it]/ssd2/liuyixin04/workspace/backup/train_log_backup2/simple_adversary_19169_False\n",
      " 95%|█████████▌| 62/65 [02:00<00:04,  1.38s/it]/ssd2/liuyixin04/workspace/backup/train_log_backup2/simple_push_3013_False\n",
      " 97%|█████████▋| 63/65 [02:02<00:02,  1.45s/it]/ssd2/liuyixin04/workspace/backup/train_log_backup2/simple_world_comm_19169_True\n",
      " 98%|█████████▊| 64/65 [02:03<00:01,  1.48s/it]/ssd2/liuyixin04/workspace/backup/train_log_backup2/simple_tag_32015_True\n",
      "100%|██████████| 65/65 [02:05<00:00,  1.93s/it]/ssd2/liuyixin04/workspace/backup/train_log_backup2/simple_tag_3013_True\n",
      "\n"
     ]
    }
   ],
   "source": [
    "from tensorboard.backend.event_processing import event_accumulator\n",
    "import argparse\n",
    "import pandas as pd\n",
    "from tqdm import tqdm\n",
    "\n",
    "\n",
    "# in_path='/ssd2/liuyixin04/workspace/PARL/examples/MADDPG/train_log/simple_3013_False'\n",
    "for in_path in tqdm(ckpt):\n",
    "    event_data = event_accumulator.EventAccumulator(in_path)  # a python interface for loading Event data\n",
    "    event_data.Reload()  # synchronously loads all of the data written so far b\n",
    "    df = pd.DataFrame(event_data.Scalars('mean_episode_reward/episode'))\n",
    "    df.columns = ['Wall_time', 'Step', 'Value']\n",
    "    df.to_csv(f'{in_path}/data.csv',index=False)\n",
    "    print(in_path)\n",
    "    # break\n",
    "    "
   ]
  },
  {
   "cell_type": "code",
   "execution_count": 5,
   "metadata": {},
   "outputs": [],
   "source": [
    "import os\n",
    "def mkdir(path):\n",
    "\tfolder = os.path.exists(path)\n",
    "\tif not folder:\n",
    "\t\tos.makedirs(path)"
   ]
  },
  {
   "cell_type": "code",
   "execution_count": 10,
   "metadata": {},
   "outputs": [],
   "source": [
    "# create dir\n",
    "root = '/ssd2/liuyixin04/workspace/PARL/examples/MADDPG/plot_dir'\n",
    "algs = ['MADDPG-continous','MADDPG-discrete']\n",
    "for alg in algs:\n",
    "    mkdir(os.path.join(root,alg))\n",
    "envs = [\n",
    "        'simple', 'simple_adversary', 'simple_crypto', 'simple_push',\n",
    "        'simple_speaker_listener', 'simple_spread', 'simple_tag',\n",
    "        'simple_world_comm'\n",
    "    ]\n",
    "for alg in algs:\n",
    "    for env in envs:\n",
    "        path=os.path.join(root,alg)\n",
    "        mkdir(os.path.join(path,env))"
   ]
  },
  {
   "cell_type": "code",
   "execution_count": 7,
   "metadata": {},
   "outputs": [],
   "source": [
    "# ckpt"
   ]
  },
  {
   "cell_type": "code",
   "execution_count": 11,
   "metadata": {},
   "outputs": [],
   "source": [
    "# data_dir = \"/ssd2/liuyixin04/workspace/PARL/examples/MADDPG/train_log\"\n",
    "# for path,dir_list,file_list in os.walk(data_dir):\n",
    "#     if 'simple' in path:\n",
    "#         for f in file_list:\n",
    "#             ckpt.append(os.path.join(path,f))\n",
    "datalist = [f+'/data.csv' for f in ckpt]\n",
    "flaglist = [d.split('/')[-2] for d in datalist]\n",
    "flaglist\n",
    "for i,csv in enumerate(datalist):\n",
    "    path = root\n",
    "    if 'True' in flaglist[i]:\n",
    "        path=os.path.join(path,'MADDPG-continous')\n",
    "    else:\n",
    "        path=os.path.join(path,'MADDPG-discrete')\n",
    "    path = os.path.join(path,'_'.join(flaglist[i].split('_')[:-2]))\n",
    "    # '/'.join(csv.split('/')[:-1])\n",
    "    csv_old = os.path.join(path,'data.csv')\n",
    "    csv_new = csv_old.replace('data','_'.join(flaglist[i].split('_')[-2:]))\n",
    "    # os.system(f\"rm {csv_old}\")\n",
    "    os.system(f'cp {csv} {path}')\n",
    "    os.system(f\"mv {csv_old} {csv_new}\")\n",
    "    # break"
   ]
  },
  {
   "cell_type": "code",
   "execution_count": 17,
   "metadata": {},
   "outputs": [
    {
     "output_type": "execute_result",
     "data": {
      "text/plain": [
       "-5.8429999351501465"
      ]
     },
     "metadata": {},
     "execution_count": 17
    }
   ],
   "source": [
    "pd.read_csv('/ssd2/liuyixin04/workspace/backup/plot_dir/MADDPG-discrete/simple/3013_False.csv')['Value'].max()"
   ]
  },
  {
   "cell_type": "code",
   "execution_count": 18,
   "metadata": {},
   "outputs": [
    {
     "output_type": "execute_result",
     "data": {
      "text/plain": [
       "{'simple_adversary': {'max_y': 1.5160000324249268,\n",
       "  'min_y': -21.136999130249023},\n",
       " 'simple': {'max_y': -4.203999996185303, 'min_y': -44.4630012512207},\n",
       " 'simple_tag': {'max_y': 117.18000030517578, 'min_y': -12.423999786376951},\n",
       " 'simple_world_comm': {'max_y': 48.84099960327149,\n",
       "  'min_y': -77.28900146484375},\n",
       " 'simple_spread': {'max_y': -97.52899932861328, 'min_y': -129.07200622558594},\n",
       " 'simple_speaker_listener': {'max_y': -13.418999671936035,\n",
       "  'min_y': -122.01300048828124},\n",
       " 'simple_push': {'max_y': -6.421999931335449, 'min_y': -30.56999969482422},\n",
       " 'simple_crypto': {'max_y': 23.18600082397461, 'min_y': -40.75199890136719}}"
      ]
     },
     "metadata": {},
     "execution_count": 18
    }
   ],
   "source": [
    "root_path = \"/ssd2/liuyixin04/workspace/test-yixin/faster_exp_plot/plot_dir\"\n",
    "dic = {}\n",
    "max_ = -9999900\n",
    "min_ = 99999999\n",
    "K={}\n",
    "import pandas as pd\n",
    "for p,d,f in os.walk(root_path):\n",
    "    for fi in f:\n",
    "        if '.csv' in fi:\n",
    "            # print(fi)\n",
    "            env = p.split('/')[-1]\n",
    "            dic[env]={}\n",
    "            dic[env]['max_y']=max_\n",
    "            dic[env]['min_y']=min_\n",
    "            K[env] = 4/5\n",
    "for p,d,f in os.walk(root_path):\n",
    "    for fi in f:\n",
    "        env = p.split('/')[-1]\n",
    "        if '.csv' in fi:\n",
    "            df = pd.read_csv(os.path.join(p,fi))\n",
    "            dic[env]['max_y'] = max(df['Value'].max(),dic[env]['max_y'])\n",
    "            dic[env]['min_y'] = min(df['Value'].min(),dic[env]['min_y'])\n",
    "dic"
   ]
  },
  {
   "cell_type": "code",
   "execution_count": 19,
   "metadata": {},
   "outputs": [],
   "source": [
    "for k,v in K.items():\n",
    "    if k==\"simple_tag\":\n",
    "        K[k] = 1/3"
   ]
  },
  {
   "cell_type": "code",
   "execution_count": 20,
   "metadata": {},
   "outputs": [
    {
     "output_type": "execute_result",
     "data": {
      "text/plain": [
       "{'simple_adversary': {'max_y': 0.7554997876286507,\n",
       "  'min_y': -21.136999130249023,\n",
       "  'mean_endy': -3.622999995946884,\n",
       "  'y_major_loc': 5.4731247294694185},\n",
       " 'simple': {'max_y': 4.269678916249958,\n",
       "  'min_y': -44.4630012512207,\n",
       "  'mean_endy': -5.476857117244175,\n",
       "  'y_major_loc': 12.183170041867665},\n",
       " 'simple_tag': {'max_y': 40.08424925804138,\n",
       "  'min_y': -12.423999786376951,\n",
       "  'mean_endy': 5.078749895095825,\n",
       "  'y_major_loc': 13.127062261104584},\n",
       " 'simple_world_comm': {'max_y': 51.33162546157837,\n",
       "  'min_y': -77.28900146484375,\n",
       "  'mean_endy': 25.607500076293945,\n",
       "  'y_major_loc': 32.15515673160553},\n",
       " 'simple_spread': {'max_y': -95.54324913024902,\n",
       "  'min_y': -129.07200622558594,\n",
       "  'mean_endy': -102.2490005493164,\n",
       "  'y_major_loc': 8.382189273834229},\n",
       " 'simple_speaker_listener': {'max_y': -0.29268765449525347,\n",
       "  'min_y': -122.01300048828124,\n",
       "  'mean_endy': -24.63675022125244,\n",
       "  'y_major_loc': 30.430078208446496},\n",
       " 'simple_push': {'max_y': -2.0300001204013824,\n",
       "  'min_y': -30.56999969482422,\n",
       "  'mean_endy': -7.73800003528595,\n",
       "  'y_major_loc': 7.134999893605709},\n",
       " 'simple_crypto': {'max_y': -1.656843826174736,\n",
       "  'min_y': -40.75199890136719,\n",
       "  'mean_endy': -9.475874841213226,\n",
       "  'y_major_loc': 9.773788768798113}}"
      ]
     },
     "metadata": {},
     "execution_count": 20
    }
   ],
   "source": [
    "root_path = \"/ssd2/liuyixin04/workspace/test-yixin/faster_exp_plot/plot_dir\"\n",
    "\n",
    "dic = {}\n",
    "max_ = -9999900\n",
    "min_ = 99999999\n",
    "import pandas as pd\n",
    "import numpy as np\n",
    "for p,d,f in os.walk(root_path):\n",
    "    for fi in f:\n",
    "        if '.csv' in fi:\n",
    "            # print(fi)\n",
    "            env = p.split('/')[-1]\n",
    "            dic[env]={}\n",
    "            dic[env]['max_y']=max_\n",
    "            dic[env]['min_y']=min_\n",
    "            dic[env]['mean_endy']=[]\n",
    "for p,d,f in os.walk(root_path):\n",
    "    for fi in f:\n",
    "        env = p.split('/')[-1]\n",
    "        if '.csv' in fi:\n",
    "            df = pd.read_csv(os.path.join(p,fi))\n",
    "            dic[env]['max_y'] = max(df['Value'].max(),dic[env]['max_y'])\n",
    "            dic[env]['min_y'] = min(df['Value'].min(),dic[env]['min_y'])\n",
    "            dic[env]['mean_endy'].append(df['Value'].to_list()[-1])\n",
    "for k,v in dic.items():\n",
    "    import numpy as np\n",
    "    dic[k]['mean_endy'] = np.mean(dic[k]['mean_endy'])\n",
    "for k,v in dic.items():\n",
    "    dic[k]['max_y'] = dic[k]['min_y'] + np.abs(dic[k]['mean_endy']-dic[k]['min_y'])/K[k]\n",
    "    dic[k]['y_major_loc'] = np.abs(dic[k]['max_y']-dic[k]['min_y'])/4\n",
    "dic"
   ]
  },
  {
   "cell_type": "code",
   "execution_count": null,
   "metadata": {},
   "outputs": [],
   "source": []
  }
 ]
}